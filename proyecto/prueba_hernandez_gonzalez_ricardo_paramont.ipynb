{
 "cells": [
  {
   "cell_type": "markdown",
   "id": "large-dover",
   "metadata": {},
   "source": [
    "***\n",
    "# Proyecto: Notebook para prueba de pipeline\n",
    "## Diplomado Ciencia de Datos - modulo II  \n",
    "  \n",
    "***  \n",
    "**Hernández González Ricardo Paramont**\n",
    "\n",
    "\n",
    "\n",
    "\n",
    "<br>"
   ]
  },
  {
   "cell_type": "code",
   "execution_count": 18,
   "id": "relevant-christianity",
   "metadata": {},
   "outputs": [],
   "source": [
    "import pandas as pd\n",
    "import numpy as np\n",
    "import pickle\n",
    "import warnings\n",
    "from modulo_hernandez_gonzalez_ricardo_paramont import ImportDF\n",
    "from modulo_hernandez_gonzalez_ricardo_paramont import CategorizeSalary\n",
    "\n",
    "warnings.filterwarnings('ignore')"
   ]
  },
  {
   "cell_type": "markdown",
   "id": "known-afghanistan",
   "metadata": {},
   "source": [
    "Se creó un pipeline capaz de transformar un dataframe para después ser sometido a la predicción de una variable categorica de estimación de salario. Las categorias de predicción son:  \n",
    "<br>\n",
    "1.- menor de 85K anuales - categoría **0**  \n",
    "2.- mayor a 85k y menor a125k anuales - categoria **1**  \n",
    "3.- 125k o más anuales - categoria **2**"
   ]
  },
  {
   "cell_type": "markdown",
   "id": "dressed-homework",
   "metadata": {},
   "source": [
    "### Carga de dataset"
   ]
  },
  {
   "cell_type": "code",
   "execution_count": 7,
   "id": "dried-journey",
   "metadata": {},
   "outputs": [
    {
     "data": {
      "text/html": [
       "<div>\n",
       "<style scoped>\n",
       "    .dataframe tbody tr th:only-of-type {\n",
       "        vertical-align: middle;\n",
       "    }\n",
       "\n",
       "    .dataframe tbody tr th {\n",
       "        vertical-align: top;\n",
       "    }\n",
       "\n",
       "    .dataframe thead th {\n",
       "        text-align: right;\n",
       "    }\n",
       "</style>\n",
       "<table border=\"1\" class=\"dataframe\">\n",
       "  <thead>\n",
       "    <tr style=\"text-align: right;\">\n",
       "      <th></th>\n",
       "      <th>Job Title</th>\n",
       "      <th>Salary Estimate</th>\n",
       "      <th>Job Description</th>\n",
       "      <th>Rating</th>\n",
       "      <th>Company Name</th>\n",
       "      <th>Location</th>\n",
       "      <th>Headquarters</th>\n",
       "      <th>Size</th>\n",
       "      <th>Founded</th>\n",
       "      <th>Type of ownership</th>\n",
       "      <th>Industry</th>\n",
       "      <th>Sector</th>\n",
       "      <th>Revenue</th>\n",
       "      <th>Competitors</th>\n",
       "      <th>Easy Apply</th>\n",
       "    </tr>\n",
       "  </thead>\n",
       "  <tbody>\n",
       "    <tr>\n",
       "      <th>0</th>\n",
       "      <td>Business Data Analyst</td>\n",
       "      <td>$98K-$160K (Glassdoor est.)</td>\n",
       "      <td>Business Data Analyst\\n\\nAre you a passionate ...</td>\n",
       "      <td>3.9</td>\n",
       "      <td>DHL\\n3.9</td>\n",
       "      <td>Westerville, OH</td>\n",
       "      <td>Bonn, Germany</td>\n",
       "      <td>10000+ employees</td>\n",
       "      <td>1969.0</td>\n",
       "      <td>Company - Private</td>\n",
       "      <td>Logistics &amp; Supply Chain</td>\n",
       "      <td>Transportation &amp; Logistics</td>\n",
       "      <td>NaN</td>\n",
       "      <td>NaN</td>\n",
       "      <td>NaN</td>\n",
       "    </tr>\n",
       "    <tr>\n",
       "      <th>1</th>\n",
       "      <td>Senior Data Engineer - Apps Systems Engineer 5</td>\n",
       "      <td>$84K-$101K (Glassdoor est.)</td>\n",
       "      <td>Job Description\\n\\nImportant Note: During the ...</td>\n",
       "      <td>3.6</td>\n",
       "      <td>Wells Fargo\\n3.6</td>\n",
       "      <td>Chandler, AZ</td>\n",
       "      <td>San Francisco, CA</td>\n",
       "      <td>10000+ employees</td>\n",
       "      <td>1852.0</td>\n",
       "      <td>Company - Public</td>\n",
       "      <td>Banks &amp; Credit Unions</td>\n",
       "      <td>Finance</td>\n",
       "      <td>$10+ billion (USD)</td>\n",
       "      <td>NaN</td>\n",
       "      <td>NaN</td>\n",
       "    </tr>\n",
       "    <tr>\n",
       "      <th>2</th>\n",
       "      <td>Associate Clinical Scientist/Clinical Trial As...</td>\n",
       "      <td>$70K-$154K (Glassdoor est.)</td>\n",
       "      <td>Job Description\\nAbout INOVIO\\n\\nINOVIO is a b...</td>\n",
       "      <td>3.6</td>\n",
       "      <td>Inovio Pharmaceuticals\\n3.6</td>\n",
       "      <td>Plymouth Meeting, PA</td>\n",
       "      <td>Plymouth Meeting, PA</td>\n",
       "      <td>201 to 500 employees</td>\n",
       "      <td>NaN</td>\n",
       "      <td>Company - Public</td>\n",
       "      <td>Biotech &amp; Pharmaceuticals</td>\n",
       "      <td>Biotech &amp; Pharmaceuticals</td>\n",
       "      <td>$25 to $50 million (USD)</td>\n",
       "      <td>NaN</td>\n",
       "      <td>NaN</td>\n",
       "    </tr>\n",
       "    <tr>\n",
       "      <th>3</th>\n",
       "      <td>Principal Research Scientist</td>\n",
       "      <td>$34K-$72K (Glassdoor est.)</td>\n",
       "      <td>For more than 75 years, Grifols has worked to ...</td>\n",
       "      <td>3.2</td>\n",
       "      <td>Grifols\\n3.2</td>\n",
       "      <td>Los Angeles, CA</td>\n",
       "      <td>Barcelona, Spain</td>\n",
       "      <td>10000+ employees</td>\n",
       "      <td>1909.0</td>\n",
       "      <td>Company - Public</td>\n",
       "      <td>Biotech &amp; Pharmaceuticals</td>\n",
       "      <td>Biotech &amp; Pharmaceuticals</td>\n",
       "      <td>$2 to $5 billion (USD)</td>\n",
       "      <td>NaN</td>\n",
       "      <td>NaN</td>\n",
       "    </tr>\n",
       "    <tr>\n",
       "      <th>4</th>\n",
       "      <td>Digital Analytics and Data Science Manager</td>\n",
       "      <td>$73K-$111K (Glassdoor est.)</td>\n",
       "      <td>Posted: Jun 11, 2020\\nWeekly Hours: 40\\nRole N...</td>\n",
       "      <td>4.1</td>\n",
       "      <td>Apple\\n4.1</td>\n",
       "      <td>Austin, TX</td>\n",
       "      <td>Cupertino, CA</td>\n",
       "      <td>10000+ employees</td>\n",
       "      <td>1976.0</td>\n",
       "      <td>Company - Public</td>\n",
       "      <td>Computer Hardware &amp; Software</td>\n",
       "      <td>Information Technology</td>\n",
       "      <td>$10+ billion (USD)</td>\n",
       "      <td>Google, Microsoft, Samsung Electronics</td>\n",
       "      <td>NaN</td>\n",
       "    </tr>\n",
       "  </tbody>\n",
       "</table>\n",
       "</div>"
      ],
      "text/plain": [
       "                                           Job Title  \\\n",
       "0                              Business Data Analyst   \n",
       "1     Senior Data Engineer - Apps Systems Engineer 5   \n",
       "2  Associate Clinical Scientist/Clinical Trial As...   \n",
       "3                       Principal Research Scientist   \n",
       "4         Digital Analytics and Data Science Manager   \n",
       "\n",
       "               Salary Estimate  \\\n",
       "0  $98K-$160K (Glassdoor est.)   \n",
       "1  $84K-$101K (Glassdoor est.)   \n",
       "2  $70K-$154K (Glassdoor est.)   \n",
       "3   $34K-$72K (Glassdoor est.)   \n",
       "4  $73K-$111K (Glassdoor est.)   \n",
       "\n",
       "                                     Job Description  Rating  \\\n",
       "0  Business Data Analyst\\n\\nAre you a passionate ...     3.9   \n",
       "1  Job Description\\n\\nImportant Note: During the ...     3.6   \n",
       "2  Job Description\\nAbout INOVIO\\n\\nINOVIO is a b...     3.6   \n",
       "3  For more than 75 years, Grifols has worked to ...     3.2   \n",
       "4  Posted: Jun 11, 2020\\nWeekly Hours: 40\\nRole N...     4.1   \n",
       "\n",
       "                  Company Name              Location          Headquarters  \\\n",
       "0                     DHL\\n3.9       Westerville, OH         Bonn, Germany   \n",
       "1             Wells Fargo\\n3.6          Chandler, AZ     San Francisco, CA   \n",
       "2  Inovio Pharmaceuticals\\n3.6  Plymouth Meeting, PA  Plymouth Meeting, PA   \n",
       "3                 Grifols\\n3.2       Los Angeles, CA      Barcelona, Spain   \n",
       "4                   Apple\\n4.1            Austin, TX         Cupertino, CA   \n",
       "\n",
       "                   Size  Founded  Type of ownership  \\\n",
       "0      10000+ employees   1969.0  Company - Private   \n",
       "1      10000+ employees   1852.0   Company - Public   \n",
       "2  201 to 500 employees      NaN   Company - Public   \n",
       "3      10000+ employees   1909.0   Company - Public   \n",
       "4      10000+ employees   1976.0   Company - Public   \n",
       "\n",
       "                       Industry                      Sector  \\\n",
       "0      Logistics & Supply Chain  Transportation & Logistics   \n",
       "1         Banks & Credit Unions                     Finance   \n",
       "2     Biotech & Pharmaceuticals   Biotech & Pharmaceuticals   \n",
       "3     Biotech & Pharmaceuticals   Biotech & Pharmaceuticals   \n",
       "4  Computer Hardware & Software      Information Technology   \n",
       "\n",
       "                    Revenue                             Competitors Easy Apply  \n",
       "0                       NaN                                     NaN        NaN  \n",
       "1        $10+ billion (USD)                                     NaN        NaN  \n",
       "2  $25 to $50 million (USD)                                     NaN        NaN  \n",
       "3    $2 to $5 billion (USD)                                     NaN        NaN  \n",
       "4        $10+ billion (USD)  Google, Microsoft, Samsung Electronics        NaN  "
      ]
     },
     "execution_count": 7,
     "metadata": {},
     "output_type": "execute_result"
    }
   ],
   "source": [
    "#El dataset de prueba se llama test_100.csv\n",
    "importar = ImportDF()\n",
    "df = importar.transform('test_100.csv')\n",
    "df.head()"
   ]
  },
  {
   "cell_type": "markdown",
   "id": "creative-radical",
   "metadata": {},
   "source": [
    "### preprocesamiento de datos"
   ]
  },
  {
   "cell_type": "code",
   "execution_count": 10,
   "id": "mobile-passport",
   "metadata": {},
   "outputs": [],
   "source": [
    "#importando pipeline de preprocesamiento de dataframe\n",
    "with open('pipeline.pkl','rb') as f:\n",
    "    pipeline = pickle.load(f)"
   ]
  },
  {
   "cell_type": "code",
   "execution_count": 15,
   "id": "reduced-latest",
   "metadata": {},
   "outputs": [],
   "source": [
    "df = pipeline.transform(df)"
   ]
  },
  {
   "cell_type": "markdown",
   "id": "guilty-omega",
   "metadata": {},
   "source": [
    "### predicción"
   ]
  },
  {
   "cell_type": "code",
   "execution_count": 16,
   "id": "whole-programmer",
   "metadata": {},
   "outputs": [],
   "source": [
    "#importando modelo de clasificacion\n",
    "with open('best_gb.pkl','rb') as f:\n",
    "    model = pickle.load(f)"
   ]
  },
  {
   "cell_type": "code",
   "execution_count": 19,
   "id": "interested-factor",
   "metadata": {},
   "outputs": [
    {
     "data": {
      "text/plain": [
       "array([0, 1, 1, 0, 1, 1, 0, 0, 2, 1, 2, 0, 0, 2, 0, 0, 1, 0, 0, 0, 0, 1,\n",
       "       0, 1, 2, 0, 1, 0, 2, 1, 0, 0, 2, 0, 2, 1, 1, 1, 2, 0, 1, 0, 0, 2,\n",
       "       2, 0, 0, 1, 0, 0, 0, 1, 1, 1, 0, 0, 1, 2, 1, 0, 2, 1, 0, 2, 2, 2,\n",
       "       2, 2, 0, 0, 0, 0, 1, 2, 0, 1, 0, 2, 0, 0, 0, 0, 1, 2, 2, 2, 2, 2,\n",
       "       2, 2, 2, 0, 0, 0, 0, 2, 0, 1, 0, 2])"
      ]
     },
     "execution_count": 19,
     "metadata": {},
     "output_type": "execute_result"
    }
   ],
   "source": [
    "y_pred = model.predict(df)\n",
    "y_pred"
   ]
  },
  {
   "cell_type": "code",
   "execution_count": 21,
   "id": "champion-status",
   "metadata": {},
   "outputs": [
    {
     "data": {
      "text/plain": [
       "0                 85,000 or less \n",
       "1     between 85,000, and 125,000\n",
       "2     between 85,000, and 125,000\n",
       "3                 85,000 or less \n",
       "4     between 85,000, and 125,000\n",
       "                 ...             \n",
       "95             more than 1250,000\n",
       "96                85,000 or less \n",
       "97    between 85,000, and 125,000\n",
       "98                85,000 or less \n",
       "99             more than 1250,000\n",
       "Length: 100, dtype: object"
      ]
     },
     "execution_count": 21,
     "metadata": {},
     "output_type": "execute_result"
    }
   ],
   "source": [
    "#Decodificando las categorias\n",
    "categorize = CategorizeSalary()\n",
    "categorize.inverse_transform(pd.Series(y_pred))"
   ]
  },
  {
   "cell_type": "code",
   "execution_count": null,
   "id": "standard-fever",
   "metadata": {},
   "outputs": [],
   "source": []
  }
 ],
 "metadata": {
  "kernelspec": {
   "display_name": "Python 3",
   "language": "python",
   "name": "python3"
  },
  "language_info": {
   "codemirror_mode": {
    "name": "ipython",
    "version": 3
   },
   "file_extension": ".py",
   "mimetype": "text/x-python",
   "name": "python",
   "nbconvert_exporter": "python",
   "pygments_lexer": "ipython3",
   "version": "3.8.5"
  },
  "varInspector": {
   "cols": {
    "lenName": 16,
    "lenType": 16,
    "lenVar": 40
   },
   "kernels_config": {
    "python": {
     "delete_cmd_postfix": "",
     "delete_cmd_prefix": "del ",
     "library": "var_list.py",
     "varRefreshCmd": "print(var_dic_list())"
    },
    "r": {
     "delete_cmd_postfix": ") ",
     "delete_cmd_prefix": "rm(",
     "library": "var_list.r",
     "varRefreshCmd": "cat(var_dic_list()) "
    }
   },
   "types_to_exclude": [
    "module",
    "function",
    "builtin_function_or_method",
    "instance",
    "_Feature"
   ],
   "window_display": false
  }
 },
 "nbformat": 4,
 "nbformat_minor": 5
}
