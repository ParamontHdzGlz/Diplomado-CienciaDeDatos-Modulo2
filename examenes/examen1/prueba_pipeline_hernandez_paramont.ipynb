{
 "cells": [
  {
   "cell_type": "markdown",
   "id": "large-dover",
   "metadata": {},
   "source": [
    "***\n",
    "# Examen: Notebook para prueba de pipeline\n",
    "## Diplomado Ciencia de Datos - modulo II  \n",
    "  \n",
    "***  \n",
    "**Hernández González Ricardo Paramont**\n",
    "\n",
    "\n",
    "\n",
    "\n",
    "<br>"
   ]
  },
  {
   "cell_type": "markdown",
   "id": "african-nickel",
   "metadata": {},
   "source": [
    "Se generarón dos modelos para predecir la **clase de la tarifa** y la **cantidad de la tarifa** en dólares. Dichos modelos fueron integrados al mismo pipeline que se encarga de procesar los datos, antes de su uso en un modelo predictivo.  \n",
    "<br>\n",
    "En el presente notebook, se detalla como probar los pipelines de cada uno de los modelos."
   ]
  },
  {
   "cell_type": "markdown",
   "id": "rapid-franchise",
   "metadata": {},
   "source": [
    "<span style=\"color:red\">**AVISO**</span>\n",
    "* El pipeline no maneja internamente datos inconsistentes, como coordenadas con valores fuera de la ciudad para que fue entrenado el modelo o cantidad de pasajeros negativa o demasiado grande.\n",
    "* El pipeline no maneja internamente datos anomalos (outliers) ni valores faltantes."
   ]
  },
  {
   "cell_type": "code",
   "execution_count": 1,
   "id": "reasonable-resource",
   "metadata": {},
   "outputs": [],
   "source": [
    "import pandas as pd\n",
    "import pickle"
   ]
  },
  {
   "cell_type": "markdown",
   "id": "adjacent-bibliography",
   "metadata": {},
   "source": [
    "## Carga del dataset"
   ]
  },
  {
   "cell_type": "markdown",
   "id": "apparent-plymouth",
   "metadata": {},
   "source": [
    "Los pipelines pueden manejar la entrada de un dataset como archivo tipo csv, con las columnas del dataset original dado para entrenamiento:  \n",
    "• **key**  \n",
    "• **fare amount**  \n",
    "• **pickup datetime**   \n",
    "• **pickup longitude**  \n",
    "• **pickup latitude**  \n",
    "• **dropoff longitude**  \n",
    "• **dropoff latitude**  \n",
    "• **passenger count**  \n",
    "• **fare class**   \n",
    "<br>\n",
    "Para probar con un dataset específico, basta con cambiar el valor de la variable 'file_name' al del archivo csv en cuestión."
   ]
  },
  {
   "cell_type": "code",
   "execution_count": 2,
   "id": "curious-victory",
   "metadata": {},
   "outputs": [],
   "source": [
    "file_name = 'data_examen.csv'"
   ]
  },
  {
   "cell_type": "code",
   "execution_count": 3,
   "id": "trying-seven",
   "metadata": {},
   "outputs": [],
   "source": [
    "df = pd.read_csv(file_name)"
   ]
  },
  {
   "cell_type": "markdown",
   "id": "vanilla-transition",
   "metadata": {},
   "source": [
    "## Probando pipeline de clasificación"
   ]
  },
  {
   "cell_type": "markdown",
   "id": "planned-stand",
   "metadata": {},
   "source": [
    "Para la prueba basta con dejar correr las siguientes celdas.\n",
    "El pipeline recive el dataframe generado por la carga del csv, lo procesa y predice la clase de la tarifa:  \n",
    "**high_fare** = **1**  \n",
    "**low_fare** = **0**"
   ]
  },
  {
   "cell_type": "code",
   "execution_count": 4,
   "id": "controlling-margin",
   "metadata": {},
   "outputs": [
    {
     "data": {
      "text/html": [
       "        <script type=\"text/javascript\">\n",
       "        window.PlotlyConfig = {MathJaxConfig: 'local'};\n",
       "        if (window.MathJax) {MathJax.Hub.Config({SVG: {font: \"STIX-Web\"}});}\n",
       "        if (typeof require !== 'undefined') {\n",
       "        require.undef(\"plotly\");\n",
       "        requirejs.config({\n",
       "            paths: {\n",
       "                'plotly': ['https://cdn.plot.ly/plotly-latest.min']\n",
       "            }\n",
       "        });\n",
       "        require(['plotly'], function(Plotly) {\n",
       "            window._Plotly = Plotly;\n",
       "        });\n",
       "        }\n",
       "        </script>\n",
       "        "
      ]
     },
     "metadata": {},
     "output_type": "display_data"
    }
   ],
   "source": [
    "#Carga del pipeline\n",
    "with open('pipeline_class.pkl','rb') as f:\n",
    "    pipeline_class = pickle.load(f)"
   ]
  },
  {
   "cell_type": "code",
   "execution_count": 5,
   "id": "enhanced-british",
   "metadata": {},
   "outputs": [
    {
     "data": {
      "text/plain": [
       "array([0., 0., 0., 0., 0.])"
      ]
     },
     "execution_count": 5,
     "metadata": {},
     "output_type": "execute_result"
    }
   ],
   "source": [
    "#predicción\n",
    "pipeline_class.predict(df)"
   ]
  },
  {
   "cell_type": "code",
   "execution_count": 6,
   "id": "danish-laugh",
   "metadata": {},
   "outputs": [
    {
     "data": {
      "text/plain": [
       "0    low_fare\n",
       "1    low_fare\n",
       "2    low_fare\n",
       "3    low_fare\n",
       "4    low_fare\n",
       "Name: fare_class, dtype: object"
      ]
     },
     "execution_count": 6,
     "metadata": {},
     "output_type": "execute_result"
    }
   ],
   "source": [
    "#Revisión de valores reales\n",
    "df['fare_class']"
   ]
  },
  {
   "cell_type": "markdown",
   "id": "optical-massachusetts",
   "metadata": {},
   "source": [
    "## Probando pipeline de regresión"
   ]
  },
  {
   "cell_type": "markdown",
   "id": "another-variation",
   "metadata": {},
   "source": [
    "Para la prueba basta con dejar correr las siguientes celdas.\n",
    "El pipeline recive el dataframe generado por la carga del csv, lo procesa y predice la cantidad de latarifa: "
   ]
  },
  {
   "cell_type": "code",
   "execution_count": 7,
   "id": "flying-constant",
   "metadata": {},
   "outputs": [],
   "source": [
    "#Carga del pipeline\n",
    "with open('pipeline_regr.pkl','rb') as f:\n",
    "    pipeline_regr = pickle.load(f)"
   ]
  },
  {
   "cell_type": "code",
   "execution_count": 8,
   "id": "charitable-pound",
   "metadata": {},
   "outputs": [
    {
     "data": {
      "text/plain": [
       "array([0., 0., 0., 0., 0.])"
      ]
     },
     "execution_count": 8,
     "metadata": {},
     "output_type": "execute_result"
    }
   ],
   "source": [
    "#predicción\n",
    "pipeline_class.predict(df)"
   ]
  },
  {
   "cell_type": "code",
   "execution_count": 9,
   "id": "mineral-hawaiian",
   "metadata": {},
   "outputs": [
    {
     "data": {
      "text/plain": [
       "0    low_fare\n",
       "1    low_fare\n",
       "2    low_fare\n",
       "3    low_fare\n",
       "4    low_fare\n",
       "Name: fare_class, dtype: object"
      ]
     },
     "execution_count": 9,
     "metadata": {},
     "output_type": "execute_result"
    }
   ],
   "source": [
    "#Revisión de valores reales\n",
    "df['fare_class']"
   ]
  }
 ],
 "metadata": {
  "kernelspec": {
   "display_name": "Python 3",
   "language": "python",
   "name": "python3"
  },
  "language_info": {
   "codemirror_mode": {
    "name": "ipython",
    "version": 3
   },
   "file_extension": ".py",
   "mimetype": "text/x-python",
   "name": "python",
   "nbconvert_exporter": "python",
   "pygments_lexer": "ipython3",
   "version": "3.8.5"
  },
  "varInspector": {
   "cols": {
    "lenName": 16,
    "lenType": 16,
    "lenVar": 40
   },
   "kernels_config": {
    "python": {
     "delete_cmd_postfix": "",
     "delete_cmd_prefix": "del ",
     "library": "var_list.py",
     "varRefreshCmd": "print(var_dic_list())"
    },
    "r": {
     "delete_cmd_postfix": ") ",
     "delete_cmd_prefix": "rm(",
     "library": "var_list.r",
     "varRefreshCmd": "cat(var_dic_list()) "
    }
   },
   "types_to_exclude": [
    "module",
    "function",
    "builtin_function_or_method",
    "instance",
    "_Feature"
   ],
   "window_display": false
  }
 },
 "nbformat": 4,
 "nbformat_minor": 5
}
